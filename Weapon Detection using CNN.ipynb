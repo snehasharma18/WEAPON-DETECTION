{
 "cells": [
  {
   "cell_type": "code",
   "execution_count": 14,
   "id": "4a715bf9-6306-4dc5-a41e-87af961a3624",
   "metadata": {},
   "outputs": [],
   "source": [
    "import numpy as np\n",
    "import os\n",
    "import json\n",
    "import cv2\n",
    "from tensorflow.keras.preprocessing.image import ImageDataGenerator\n",
    "from tensorflow.keras.applications import VGG16\n",
    "from tensorflow.keras.models import Sequential\n",
    "from tensorflow.keras.layers import Dense, Flatten, Dropout, GlobalAveragePooling2D\n",
    "from tensorflow.keras.optimizers import Adam\n",
    "from tensorflow.keras.callbacks import EarlyStopping, ReduceLROnPlateau\n",
    "from tensorflow.keras.utils import to_categorical\n",
    "from sklearn.metrics import confusion_matrix, ConfusionMatrixDisplay\n",
    "import seaborn as sns\n",
    "import matplotlib.pyplot as plt\n"
   ]
  },
  {
   "cell_type": "code",
   "execution_count": 15,
   "id": "39e6f41d-f7ba-4385-838d-1c2677c6a1b0",
   "metadata": {},
   "outputs": [],
   "source": [
    "def load_annotations(json_file):\n",
    "    with open(json_file, 'r') as f:\n",
    "        annotation_data = json.load(f)\n",
    "    image_id_to_file = {img['id']: img['file_name'] for img in annotation_data['images']}\n",
    "    annotations = {image_id_to_file[ann['image_id']]: ann['category_id'] for ann in annotation_data['annotations']}\n",
    "    return annotations\n",
    "\n",
    "train_annotations = load_annotations(r'dataset\\\\train\\\\_annotations.coco.json')\n",
    "val_annotations = load_annotations(r'dataset\\\\valid\\\\_annotations.coco.json')\n"
   ]
  },
  {
   "cell_type": "code",
   "execution_count": 16,
   "id": "b4974273-a7e9-480b-bd2f-d2a0de8a4a7f",
   "metadata": {},
   "outputs": [],
   "source": [
    "def data_generator(directory, annotations, batch_size=16, target_size=(416, 416)):\n",
    "    files = list(annotations.keys())\n",
    "    num_files = len(files)\n",
    "    while True:\n",
    "        np.random.shuffle(files)\n",
    "        for offset in range(0, num_files, batch_size):\n",
    "            batch_files = files[offset:offset+batch_size]\n",
    "            images = []\n",
    "            labels = []\n",
    "            for file in batch_files:\n",
    "                image_path = os.path.join(directory, file)\n",
    "                image = cv2.imread(image_path)\n",
    "                image = cv2.cvtColor(image, cv2.COLOR_BGR2RGB)\n",
    "                image = cv2.resize(image, target_size)\n",
    "                images.append(image)\n",
    "                labels.append(annotations[file])\n",
    "            yield np.array(images) / 255.0, to_categorical(np.array(labels), num_classes=4)\n"
   ]
  },
  {
   "cell_type": "code",
   "execution_count": 17,
   "id": "5bda3808-d700-4b1d-947b-afb9498c5c6f",
   "metadata": {},
   "outputs": [],
   "source": [
    "batch_size = 16\n",
    "train_generator = data_generator(r'dataset\\\\train', train_annotations, batch_size)\n",
    "val_generator = data_generator(r'dataset\\\\valid', val_annotations, batch_size)"
   ]
  },
  {
   "cell_type": "code",
   "execution_count": 18,
   "id": "f6106a37-793e-491e-97d3-356785bb605d",
   "metadata": {},
   "outputs": [],
   "source": [
    "steps_per_epoch = len(train_annotations) // batch_size\n",
    "validation_steps = len(val_annotations) // batch_size\n"
   ]
  },
  {
   "cell_type": "code",
   "execution_count": 19,
   "id": "80e28288-2208-401b-a982-6a2313660c77",
   "metadata": {},
   "outputs": [],
   "source": [
    "base_model = VGG16(weights='imagenet', include_top=False, input_shape=(416, 416, 3))\n",
    "base_model.trainable = False  # \n",
    "\n",
    "model = Sequential([\n",
    "    base_model,\n",
    "    GlobalAveragePooling2D(),\n",
    "    Dense(512, activation='relu'),\n",
    "    Dropout(0.5),\n",
    "    Dense(4, activation='softmax')\n",
    "])\n",
    "\n",
    "model.compile(optimizer=Adam(learning_rate=1e-4), loss='categorical_crossentropy', metrics=['accuracy'])\n"
   ]
  },
  {
   "cell_type": "code",
   "execution_count": 20,
   "id": "1b8d4c04-5acc-4fd9-989c-78370ea0d53f",
   "metadata": {},
   "outputs": [],
   "source": [
    "early_stopping = EarlyStopping(monitor='val_loss', patience=5, restore_best_weights=True)\n",
    "reduce_lr = ReduceLROnPlateau(monitor='val_loss', factor=0.1, patience=3)\n"
   ]
  },
  {
   "cell_type": "code",
   "execution_count": 21,
   "id": "ee970152-7271-4d6d-8cbc-ea4a8c3d658f",
   "metadata": {},
   "outputs": [
    {
     "name": "stdout",
     "output_type": "stream",
     "text": [
      "Epoch 1/50\n",
      "235/235 [==============================] - 44s 183ms/step - loss: 1.3023 - accuracy: 0.3992 - val_loss: 1.0949 - val_accuracy: 0.5804 - lr: 1.0000e-04\n",
      "Epoch 2/50\n",
      "235/235 [==============================] - 42s 178ms/step - loss: 1.0280 - accuracy: 0.6182 - val_loss: 0.9306 - val_accuracy: 0.6975 - lr: 1.0000e-04\n",
      "Epoch 3/50\n",
      "235/235 [==============================] - 47s 199ms/step - loss: 0.8918 - accuracy: 0.6718 - val_loss: 0.8339 - val_accuracy: 0.7243 - lr: 1.0000e-04\n",
      "Epoch 4/50\n",
      "235/235 [==============================] - 43s 181ms/step - loss: 0.7969 - accuracy: 0.7228 - val_loss: 0.7717 - val_accuracy: 0.7433 - lr: 1.0000e-04\n",
      "Epoch 5/50\n",
      "235/235 [==============================] - 43s 185ms/step - loss: 0.7283 - accuracy: 0.7463 - val_loss: 0.7166 - val_accuracy: 0.7623 - lr: 1.0000e-04\n",
      "Epoch 6/50\n",
      "235/235 [==============================] - 42s 180ms/step - loss: 0.6855 - accuracy: 0.7637 - val_loss: 0.6836 - val_accuracy: 0.7768 - lr: 1.0000e-04\n",
      "Epoch 7/50\n",
      "235/235 [==============================] - 42s 180ms/step - loss: 0.6528 - accuracy: 0.7818 - val_loss: 0.6564 - val_accuracy: 0.7757 - lr: 1.0000e-04\n",
      "Epoch 8/50\n",
      "235/235 [==============================] - 42s 179ms/step - loss: 0.6108 - accuracy: 0.7936 - val_loss: 0.6234 - val_accuracy: 0.7857 - lr: 1.0000e-04\n",
      "Epoch 9/50\n",
      "235/235 [==============================] - 42s 177ms/step - loss: 0.5951 - accuracy: 0.7984 - val_loss: 0.5982 - val_accuracy: 0.8103 - lr: 1.0000e-04\n",
      "Epoch 10/50\n",
      "235/235 [==============================] - 42s 179ms/step - loss: 0.5593 - accuracy: 0.8142 - val_loss: 0.5791 - val_accuracy: 0.8181 - lr: 1.0000e-04\n",
      "Epoch 11/50\n",
      "235/235 [==============================] - 42s 179ms/step - loss: 0.5437 - accuracy: 0.8131 - val_loss: 0.5668 - val_accuracy: 0.8237 - lr: 1.0000e-04\n",
      "Epoch 12/50\n",
      "235/235 [==============================] - 42s 177ms/step - loss: 0.5253 - accuracy: 0.8195 - val_loss: 0.5497 - val_accuracy: 0.8125 - lr: 1.0000e-04\n",
      "Epoch 13/50\n",
      "235/235 [==============================] - 42s 177ms/step - loss: 0.5120 - accuracy: 0.8219 - val_loss: 0.5331 - val_accuracy: 0.8292 - lr: 1.0000e-04\n",
      "Epoch 14/50\n",
      "235/235 [==============================] - 41s 176ms/step - loss: 0.4977 - accuracy: 0.8331 - val_loss: 0.5269 - val_accuracy: 0.8214 - lr: 1.0000e-04\n",
      "Epoch 15/50\n",
      "235/235 [==============================] - 41s 176ms/step - loss: 0.4796 - accuracy: 0.8371 - val_loss: 0.5224 - val_accuracy: 0.8214 - lr: 1.0000e-04\n",
      "Epoch 16/50\n",
      "235/235 [==============================] - 41s 176ms/step - loss: 0.4635 - accuracy: 0.8417 - val_loss: 0.5075 - val_accuracy: 0.8337 - lr: 1.0000e-04\n",
      "Epoch 17/50\n",
      "235/235 [==============================] - 42s 179ms/step - loss: 0.4662 - accuracy: 0.8360 - val_loss: 0.4939 - val_accuracy: 0.8393 - lr: 1.0000e-04\n",
      "Epoch 18/50\n",
      "235/235 [==============================] - 42s 179ms/step - loss: 0.4430 - accuracy: 0.8502 - val_loss: 0.4889 - val_accuracy: 0.8359 - lr: 1.0000e-04\n",
      "Epoch 19/50\n",
      "235/235 [==============================] - 42s 179ms/step - loss: 0.4382 - accuracy: 0.8558 - val_loss: 0.4784 - val_accuracy: 0.8393 - lr: 1.0000e-04\n",
      "Epoch 20/50\n",
      "235/235 [==============================] - 42s 179ms/step - loss: 0.4307 - accuracy: 0.8537 - val_loss: 0.4777 - val_accuracy: 0.8337 - lr: 1.0000e-04\n",
      "Epoch 21/50\n",
      "235/235 [==============================] - 42s 179ms/step - loss: 0.4102 - accuracy: 0.8641 - val_loss: 0.4712 - val_accuracy: 0.8359 - lr: 1.0000e-04\n",
      "Epoch 22/50\n",
      "235/235 [==============================] - 42s 180ms/step - loss: 0.4160 - accuracy: 0.8593 - val_loss: 0.4625 - val_accuracy: 0.8371 - lr: 1.0000e-04\n",
      "Epoch 23/50\n",
      "235/235 [==============================] - 42s 179ms/step - loss: 0.4052 - accuracy: 0.8617 - val_loss: 0.4606 - val_accuracy: 0.8404 - lr: 1.0000e-04\n",
      "Epoch 24/50\n",
      "235/235 [==============================] - 42s 179ms/step - loss: 0.3980 - accuracy: 0.8676 - val_loss: 0.4477 - val_accuracy: 0.8493 - lr: 1.0000e-04\n",
      "Epoch 25/50\n",
      "235/235 [==============================] - 42s 179ms/step - loss: 0.3880 - accuracy: 0.8681 - val_loss: 0.4482 - val_accuracy: 0.8415 - lr: 1.0000e-04\n",
      "Epoch 26/50\n",
      "235/235 [==============================] - 42s 180ms/step - loss: 0.3861 - accuracy: 0.8721 - val_loss: 0.4452 - val_accuracy: 0.8449 - lr: 1.0000e-04\n",
      "Epoch 27/50\n",
      "235/235 [==============================] - 42s 179ms/step - loss: 0.3730 - accuracy: 0.8742 - val_loss: 0.4417 - val_accuracy: 0.8471 - lr: 1.0000e-04\n",
      "Epoch 28/50\n",
      "235/235 [==============================] - 42s 179ms/step - loss: 0.3705 - accuracy: 0.8766 - val_loss: 0.4364 - val_accuracy: 0.8460 - lr: 1.0000e-04\n",
      "Epoch 29/50\n",
      "235/235 [==============================] - 42s 178ms/step - loss: 0.3574 - accuracy: 0.8785 - val_loss: 0.4357 - val_accuracy: 0.8449 - lr: 1.0000e-04\n",
      "Epoch 30/50\n",
      "235/235 [==============================] - 42s 180ms/step - loss: 0.3561 - accuracy: 0.8790 - val_loss: 0.4233 - val_accuracy: 0.8504 - lr: 1.0000e-04\n",
      "Epoch 31/50\n",
      "235/235 [==============================] - 42s 179ms/step - loss: 0.3566 - accuracy: 0.8798 - val_loss: 0.4188 - val_accuracy: 0.8482 - lr: 1.0000e-04\n",
      "Epoch 32/50\n",
      "235/235 [==============================] - 42s 179ms/step - loss: 0.3556 - accuracy: 0.8740 - val_loss: 0.4253 - val_accuracy: 0.8471 - lr: 1.0000e-04\n",
      "Epoch 33/50\n",
      "235/235 [==============================] - 42s 178ms/step - loss: 0.3472 - accuracy: 0.8865 - val_loss: 0.4130 - val_accuracy: 0.8538 - lr: 1.0000e-04\n",
      "Epoch 34/50\n",
      "235/235 [==============================] - 42s 179ms/step - loss: 0.3361 - accuracy: 0.8881 - val_loss: 0.4293 - val_accuracy: 0.8426 - lr: 1.0000e-04\n",
      "Epoch 35/50\n",
      "235/235 [==============================] - 42s 179ms/step - loss: 0.3361 - accuracy: 0.8801 - val_loss: 0.4212 - val_accuracy: 0.8326 - lr: 1.0000e-04\n",
      "Epoch 36/50\n",
      "235/235 [==============================] - 42s 180ms/step - loss: 0.3341 - accuracy: 0.8889 - val_loss: 0.4053 - val_accuracy: 0.8638 - lr: 1.0000e-04\n",
      "Epoch 37/50\n",
      "235/235 [==============================] - 42s 177ms/step - loss: 0.3269 - accuracy: 0.8865 - val_loss: 0.4084 - val_accuracy: 0.8471 - lr: 1.0000e-04\n",
      "Epoch 38/50\n",
      "235/235 [==============================] - 41s 175ms/step - loss: 0.3168 - accuracy: 0.8943 - val_loss: 0.4324 - val_accuracy: 0.8248 - lr: 1.0000e-04\n",
      "Epoch 39/50\n",
      "235/235 [==============================] - 41s 175ms/step - loss: 0.3235 - accuracy: 0.8945 - val_loss: 0.4089 - val_accuracy: 0.8538 - lr: 1.0000e-04\n",
      "Epoch 40/50\n",
      "235/235 [==============================] - 41s 175ms/step - loss: 0.3094 - accuracy: 0.9004 - val_loss: 0.3998 - val_accuracy: 0.8516 - lr: 1.0000e-05\n",
      "Epoch 41/50\n",
      "235/235 [==============================] - 43s 183ms/step - loss: 0.3089 - accuracy: 0.9020 - val_loss: 0.3978 - val_accuracy: 0.8583 - lr: 1.0000e-05\n",
      "Epoch 42/50\n",
      "235/235 [==============================] - 43s 184ms/step - loss: 0.3092 - accuracy: 0.8961 - val_loss: 0.3990 - val_accuracy: 0.8594 - lr: 1.0000e-05\n",
      "Epoch 43/50\n",
      "235/235 [==============================] - 43s 183ms/step - loss: 0.3121 - accuracy: 0.8935 - val_loss: 0.3977 - val_accuracy: 0.8560 - lr: 1.0000e-05\n",
      "Epoch 44/50\n",
      "235/235 [==============================] - 47s 198ms/step - loss: 0.3013 - accuracy: 0.8975 - val_loss: 0.3999 - val_accuracy: 0.8594 - lr: 1.0000e-05\n",
      "Epoch 45/50\n",
      "235/235 [==============================] - 45s 191ms/step - loss: 0.2957 - accuracy: 0.9009 - val_loss: 0.3988 - val_accuracy: 0.8571 - lr: 1.0000e-05\n",
      "Epoch 46/50\n",
      "235/235 [==============================] - 42s 178ms/step - loss: 0.3178 - accuracy: 0.8959 - val_loss: 0.3932 - val_accuracy: 0.8560 - lr: 1.0000e-05\n",
      "Epoch 47/50\n",
      "235/235 [==============================] - 41s 173ms/step - loss: 0.3006 - accuracy: 0.9047 - val_loss: 0.3985 - val_accuracy: 0.8560 - lr: 1.0000e-05\n",
      "Epoch 48/50\n",
      "235/235 [==============================] - 40s 172ms/step - loss: 0.2915 - accuracy: 0.9017 - val_loss: 0.3995 - val_accuracy: 0.8549 - lr: 1.0000e-05\n",
      "Epoch 49/50\n",
      "235/235 [==============================] - 41s 174ms/step - loss: 0.3117 - accuracy: 0.8964 - val_loss: 0.3993 - val_accuracy: 0.8538 - lr: 1.0000e-05\n",
      "Epoch 50/50\n",
      "235/235 [==============================] - 41s 173ms/step - loss: 0.2937 - accuracy: 0.9025 - val_loss: 0.4007 - val_accuracy: 0.8538 - lr: 1.0000e-06\n"
     ]
    }
   ],
   "source": [
    "history = model.fit(\n",
    "    train_generator,\n",
    "    steps_per_epoch=steps_per_epoch,\n",
    "    epochs=50,\n",
    "    validation_data=val_generator,\n",
    "    validation_steps=validation_steps,\n",
    "    callbacks=[early_stopping, reduce_lr]\n",
    ")"
   ]
  },
  {
   "cell_type": "code",
   "execution_count": 22,
   "id": "3088a9a3-1bda-4f32-ac0b-8eb43bd6e176",
   "metadata": {},
   "outputs": [
    {
     "name": "stdout",
     "output_type": "stream",
     "text": [
      "Total validation images: 905\n"
     ]
    }
   ],
   "source": [
    "val_annotations = load_annotations(r'dataset\\\\valid\\\\_annotations.coco.json')\n",
    "print(f\"Total validation images: {len(val_annotations)}\")\n"
   ]
  },
  {
   "cell_type": "code",
   "execution_count": 23,
   "id": "fcab576a-2f5d-4f14-b907-5130519a8191",
   "metadata": {},
   "outputs": [
    {
     "name": "stdout",
     "output_type": "stream",
     "text": [
      "Validation steps: 56\n"
     ]
    }
   ],
   "source": [
    "batch_size = 16  \n",
    "\n",
    "\n",
    "val_generator = data_generator(r'dataset\\\\valid', val_annotations, batch_size)\n",
    "validation_steps = len(val_annotations) // batch_size\n",
    "print(f\"Validation steps: {validation_steps}\")\n"
   ]
  },
  {
   "cell_type": "code",
   "execution_count": 24,
   "id": "654d6b0d-9e6c-4104-aa7f-7c5edf794b5b",
   "metadata": {},
   "outputs": [
    {
     "name": "stdout",
     "output_type": "stream",
     "text": [
      "1/1 [==============================] - 0s 123ms/step\n",
      "1/1 [==============================] - 0s 28ms/step\n",
      "1/1 [==============================] - 0s 27ms/step\n",
      "1/1 [==============================] - 0s 27ms/step\n",
      "1/1 [==============================] - 0s 27ms/step\n",
      "1/1 [==============================] - 0s 28ms/step\n",
      "1/1 [==============================] - 0s 26ms/step\n",
      "1/1 [==============================] - 0s 28ms/step\n",
      "1/1 [==============================] - 0s 28ms/step\n",
      "1/1 [==============================] - 0s 28ms/step\n",
      "1/1 [==============================] - 0s 26ms/step\n",
      "1/1 [==============================] - 0s 26ms/step\n",
      "1/1 [==============================] - 0s 27ms/step\n",
      "1/1 [==============================] - 0s 28ms/step\n",
      "1/1 [==============================] - 0s 29ms/step\n",
      "1/1 [==============================] - 0s 35ms/step\n",
      "1/1 [==============================] - 0s 26ms/step\n",
      "1/1 [==============================] - 0s 28ms/step\n",
      "1/1 [==============================] - 0s 28ms/step\n",
      "1/1 [==============================] - 0s 34ms/step\n",
      "1/1 [==============================] - 0s 27ms/step\n",
      "1/1 [==============================] - 0s 30ms/step\n",
      "1/1 [==============================] - 0s 41ms/step\n",
      "1/1 [==============================] - 0s 36ms/step\n",
      "1/1 [==============================] - 0s 28ms/step\n",
      "1/1 [==============================] - 0s 30ms/step\n",
      "1/1 [==============================] - 0s 34ms/step\n",
      "1/1 [==============================] - 0s 27ms/step\n",
      "1/1 [==============================] - 0s 31ms/step\n",
      "1/1 [==============================] - 0s 28ms/step\n",
      "1/1 [==============================] - 0s 27ms/step\n",
      "1/1 [==============================] - 0s 27ms/step\n",
      "1/1 [==============================] - 0s 28ms/step\n",
      "1/1 [==============================] - 0s 29ms/step\n",
      "1/1 [==============================] - 0s 29ms/step\n",
      "1/1 [==============================] - 0s 27ms/step\n",
      "1/1 [==============================] - 0s 29ms/step\n",
      "1/1 [==============================] - 0s 28ms/step\n",
      "1/1 [==============================] - 0s 28ms/step\n",
      "1/1 [==============================] - 0s 26ms/step\n",
      "1/1 [==============================] - 0s 26ms/step\n",
      "1/1 [==============================] - 0s 26ms/step\n",
      "1/1 [==============================] - 0s 27ms/step\n",
      "1/1 [==============================] - 0s 30ms/step\n",
      "1/1 [==============================] - 0s 27ms/step\n",
      "1/1 [==============================] - 0s 28ms/step\n",
      "1/1 [==============================] - 0s 28ms/step\n",
      "1/1 [==============================] - 0s 28ms/step\n",
      "1/1 [==============================] - 0s 28ms/step\n",
      "1/1 [==============================] - 0s 28ms/step\n",
      "1/1 [==============================] - 0s 26ms/step\n",
      "1/1 [==============================] - 0s 28ms/step\n",
      "1/1 [==============================] - 0s 26ms/step\n",
      "1/1 [==============================] - 0s 28ms/step\n",
      "1/1 [==============================] - 0s 30ms/step\n",
      "1/1 [==============================] - 0s 27ms/step\n",
      "y_pred shape: (896,), y_true shape: (896,)\n"
     ]
    }
   ],
   "source": [
    "y_pred = []\n",
    "y_true = []\n",
    "\n",
    "for i in range(validation_steps):\n",
    "    x_batch, y_batch = next(val_generator)\n",
    "    y_pred_batch = model.predict(x_batch)\n",
    "    y_pred_classes_batch = np.argmax(y_pred_batch, axis=1)\n",
    "    \n",
    "    y_pred.extend(y_pred_classes_batch)\n",
    "    y_true.extend(np.argmax(y_batch, axis=1))  \n",
    "\n",
    "y_pred = np.array(y_pred)\n",
    "y_true = np.array(y_true)\n",
    "\n",
    "\n",
    "print(f\"y_pred shape: {y_pred.shape}, y_true shape: {y_true.shape}\")"
   ]
  },
  {
   "cell_type": "code",
   "execution_count": 25,
   "id": "ffc874d6-2614-492a-8d75-919388238890",
   "metadata": {},
   "outputs": [
    {
     "data": {
      "image/png": "[encoded data removed]",
      "text/plain": [
       "<Figure size 640x480 with 2 Axes>"
      ]
     },
     "metadata": {},
     "output_type": "display_data"
    }
   ],
   "source": [
    "from sklearn.metrics import confusion_matrix, ConfusionMatrixDisplay\n",
    "\n",
    "cm = confusion_matrix(y_true, y_pred)\n",
    "disp = ConfusionMatrixDisplay(confusion_matrix=cm)\n",
    "disp.plot(cmap=plt.cm.Blues)\n",
    "plt.xlabel('Predicted Labels')\n",
    "plt.ylabel('True Labels')\n",
    "plt.title('Confusion Matrix')\n",
    "plt.show()\n"
   ]
  },
  {
   "cell_type": "code",
   "execution_count": 26,
   "id": "d7e5def4-64cf-4aa3-8040-6b1cd3ae3796",
   "metadata": {},
   "outputs": [
    {
     "name": "stdout",
     "output_type": "stream",
     "text": [
      "Total correct predictions: 766 out of 896\n"
     ]
    }
   ],
   "source": [
    "print(f\"Total correct predictions: {np.sum(y_true == y_pred)} out of {len(y_true)}\")\n"
   ]
  },
  {
   "cell_type": "code",
   "execution_count": null,
   "id": "d3a0fe8b-f721-4c1e-bfd1-6a5edeff28b2",
   "metadata": {},
   "outputs": [],
   "source": []
  }
 ],
 "metadata": {
  "kernelspec": {
   "display_name": "Python 3 (ipykernel)",
   "language": "python",
   "name": "python3"
  },
  "language_info": {
   "codemirror_mode": {
    "name": "ipython",
    "version": 3
   },
   "file_extension": ".py",
   "mimetype": "text/x-python",
   "name": "python",
   "nbconvert_exporter": "python",
   "pygments_lexer": "ipython3",
   "version": "3.10.14"
  }
 },
 "nbformat": 4,
 "nbformat_minor": 5
}
