{
 "cells": [
  {
   "cell_type": "code",
   "execution_count": 1,
   "id": "2b6130de-2f6f-410b-9ca0-902745f21c7e",
   "metadata": {},
   "outputs": [
    {
     "name": "stderr",
     "output_type": "stream",
     "text": [
      "Some weights of ViTForImageClassification were not initialized from the model checkpoint at google/vit-base-patch16-224 and are newly initialized because the shapes did not match:\n",
      "- classifier.bias: found shape torch.Size([1000]) in the checkpoint and torch.Size([4]) in the model instantiated\n",
      "- classifier.weight: found shape torch.Size([1000, 768]) in the checkpoint and torch.Size([4, 768]) in the model instantiated\n",
      "You should probably TRAIN this model on a down-stream task to be able to use it for predictions and inference.\n",
      "C:\\Users\\Swakshwar\\AppData\\Roaming\\Python\\Python310\\site-packages\\transformers\\models\\vit\\feature_extraction_vit.py:28: FutureWarning: The class ViTFeatureExtractor is deprecated and will be removed in version 5 of Transformers. Please use ViTImageProcessor instead.\n",
      "  warnings.warn(\n"
     ]
    },
    {
     "data": {
      "application/vnd.jupyter.widget-view+json": {
       "model_id": "2ff2a8564ba34cc78484f9b1d84695d9",
       "version_major": 2,
       "version_minor": 0
      },
      "text/plain": [
       "  0%|          | 0/2360 [00:00<?, ?it/s]"
      ]
     },
     "metadata": {},
     "output_type": "display_data"
    },
    {
     "name": "stdout",
     "output_type": "stream",
     "text": [
      "{'loss': 1.3849, 'grad_norm': 4.339969635009766, 'learning_rate': 4.9830508474576276e-05, 'epoch': 0.04}\n",
      "{'loss': 1.2616, 'grad_norm': 3.3621714115142822, 'learning_rate': 4.961864406779661e-05, 'epoch': 0.08}\n",
      "{'loss': 1.2247, 'grad_norm': 5.570422172546387, 'learning_rate': 4.940677966101695e-05, 'epoch': 0.13}\n",
      "{'loss': 1.0638, 'grad_norm': 4.337039947509766, 'learning_rate': 4.919491525423729e-05, 'epoch': 0.17}\n",
      "{'loss': 1.1508, 'grad_norm': 6.269214630126953, 'learning_rate': 4.898305084745763e-05, 'epoch': 0.21}\n",
      "{'loss': 1.036, 'grad_norm': 6.752583980560303, 'learning_rate': 4.877118644067797e-05, 'epoch': 0.25}\n",
      "{'loss': 1.0256, 'grad_norm': 4.5840678215026855, 'learning_rate': 4.855932203389831e-05, 'epoch': 0.3}\n",
      "{'loss': 0.9327, 'grad_norm': nan, 'learning_rate': 4.8368644067796615e-05, 'epoch': 0.34}\n",
      "{'loss': 1.0286, 'grad_norm': 6.176445960998535, 'learning_rate': 4.815677966101695e-05, 'epoch': 0.38}\n",
      "{'loss': 1.0096, 'grad_norm': 5.513400077819824, 'learning_rate': 4.794491525423729e-05, 'epoch': 0.42}\n"
     ]
    },
    {
     "data": {
      "application/vnd.jupyter.widget-view+json": {
       "model_id": "4196fe4959494682855ee6345d51d6d4",
       "version_major": 2,
       "version_minor": 0
      },
      "text/plain": [
       "  0%|          | 0/114 [00:00<?, ?it/s]"
      ]
     },
     "metadata": {},
     "output_type": "display_data"
    },
    {
     "name": "stdout",
     "output_type": "stream",
     "text": [
      "{'eval_loss': 1.2564431428909302, 'eval_accuracy': 0.4718232044198895, 'eval_precision': 0.5423971270575607, 'eval_recall': 0.4718232044198895, 'eval_f1': 0.4314397442986558, 'eval_runtime': 15.3002, 'eval_samples_per_second': 59.15, 'eval_steps_per_second': 7.451, 'epoch': 0.42}\n",
      "{'loss': 0.9487, 'grad_norm': 5.125683307647705, 'learning_rate': 4.7733050847457624e-05, 'epoch': 0.47}\n",
      "{'loss': 0.9688, 'grad_norm': 5.3657755851745605, 'learning_rate': 4.752118644067797e-05, 'epoch': 0.51}\n",
      "{'loss': 1.023, 'grad_norm': 10.060126304626465, 'learning_rate': 4.7309322033898304e-05, 'epoch': 0.55}\n",
      "{'loss': 0.9265, 'grad_norm': 4.157229900360107, 'learning_rate': 4.709745762711865e-05, 'epoch': 0.59}\n",
      "{'loss': 0.9891, 'grad_norm': 5.18560266494751, 'learning_rate': 4.6885593220338983e-05, 'epoch': 0.64}\n",
      "{'loss': 0.9145, 'grad_norm': 6.376780033111572, 'learning_rate': 4.667372881355933e-05, 'epoch': 0.68}\n",
      "{'loss': 0.9515, 'grad_norm': 7.651336193084717, 'learning_rate': 4.646186440677966e-05, 'epoch': 0.72}\n",
      "{'loss': 0.9476, 'grad_norm': 6.137639999389648, 'learning_rate': 4.6250000000000006e-05, 'epoch': 0.76}\n",
      "{'loss': 0.9925, 'grad_norm': 9.080910682678223, 'learning_rate': 4.6038135593220336e-05, 'epoch': 0.81}\n",
      "{'loss': 1.0597, 'grad_norm': 6.649982929229736, 'learning_rate': 4.582627118644068e-05, 'epoch': 0.85}\n"
     ]
    },
    {
     "data": {
      "application/vnd.jupyter.widget-view+json": {
       "model_id": "f142fe2ae39547af836fa6a00731422f",
       "version_major": 2,
       "version_minor": 0
      },
      "text/plain": [
       "  0%|          | 0/114 [00:00<?, ?it/s]"
      ]
     },
     "metadata": {},
     "output_type": "display_data"
    },
    {
     "name": "stdout",
     "output_type": "stream",
     "text": [
      "{'eval_loss': 1.0619277954101562, 'eval_accuracy': 0.5480662983425414, 'eval_precision': 0.6101329471032585, 'eval_recall': 0.5480662983425414, 'eval_f1': 0.5135286365445679, 'eval_runtime': 9.0708, 'eval_samples_per_second': 99.77, 'eval_steps_per_second': 12.568, 'epoch': 0.85}\n",
      "{'loss': 0.8402, 'grad_norm': 4.520654678344727, 'learning_rate': 4.5614406779661015e-05, 'epoch': 0.89}\n",
      "{'loss': 0.8754, 'grad_norm': 8.836793899536133, 'learning_rate': 4.540254237288136e-05, 'epoch': 0.93}\n",
      "{'loss': 0.9129, 'grad_norm': 5.590432643890381, 'learning_rate': 4.5190677966101695e-05, 'epoch': 0.97}\n",
      "{'loss': 0.7367, 'grad_norm': 6.506397247314453, 'learning_rate': 4.497881355932204e-05, 'epoch': 1.02}\n",
      "{'loss': 0.8291, 'grad_norm': 6.117615222930908, 'learning_rate': 4.4766949152542374e-05, 'epoch': 1.06}\n",
      "{'loss': 0.7453, 'grad_norm': 6.453190326690674, 'learning_rate': 4.455508474576272e-05, 'epoch': 1.1}\n",
      "{'loss': 0.7257, 'grad_norm': 13.946218490600586, 'learning_rate': 4.4343220338983054e-05, 'epoch': 1.14}\n",
      "{'loss': 0.7198, 'grad_norm': 8.86248779296875, 'learning_rate': 4.41313559322034e-05, 'epoch': 1.19}\n",
      "{'loss': 0.7448, 'grad_norm': 4.106637477874756, 'learning_rate': 4.3919491525423726e-05, 'epoch': 1.23}\n",
      "{'loss': 0.6998, 'grad_norm': 6.155156135559082, 'learning_rate': 4.370762711864407e-05, 'epoch': 1.27}\n"
     ]
    },
    {
     "data": {
      "application/vnd.jupyter.widget-view+json": {
       "model_id": "d10182929195419684d67de341dc06a9",
       "version_major": 2,
       "version_minor": 0
      },
      "text/plain": [
       "  0%|          | 0/114 [00:00<?, ?it/s]"
      ]
     },
     "metadata": {},
     "output_type": "display_data"
    },
    {
     "name": "stdout",
     "output_type": "stream",
     "text": [
      "{'eval_loss': 1.0600569248199463, 'eval_accuracy': 0.5513812154696133, 'eval_precision': 0.5863328544272923, 'eval_recall': 0.5513812154696133, 'eval_f1': 0.5464039923983277, 'eval_runtime': 7.0888, 'eval_samples_per_second': 127.665, 'eval_steps_per_second': 16.082, 'epoch': 1.27}\n",
      "{'loss': 0.7579, 'grad_norm': 12.604698181152344, 'learning_rate': 4.3495762711864406e-05, 'epoch': 1.31}\n",
      "{'loss': 0.7857, 'grad_norm': 5.4248576164245605, 'learning_rate': 4.328389830508475e-05, 'epoch': 1.36}\n",
      "{'loss': 0.7029, 'grad_norm': 9.600992202758789, 'learning_rate': 4.3072033898305085e-05, 'epoch': 1.4}\n",
      "{'loss': 0.7687, 'grad_norm': 9.32540225982666, 'learning_rate': 4.286016949152543e-05, 'epoch': 1.44}\n",
      "{'loss': 0.6906, 'grad_norm': 6.682056903839111, 'learning_rate': 4.2648305084745765e-05, 'epoch': 1.48}\n",
      "{'loss': 0.8408, 'grad_norm': 8.464341163635254, 'learning_rate': 4.243644067796611e-05, 'epoch': 1.53}\n",
      "{'loss': 0.8459, 'grad_norm': 8.105401992797852, 'learning_rate': 4.2224576271186444e-05, 'epoch': 1.57}\n",
      "{'loss': 0.7646, 'grad_norm': 6.035030841827393, 'learning_rate': 4.201271186440678e-05, 'epoch': 1.61}\n",
      "{'loss': 0.7336, 'grad_norm': 6.325106143951416, 'learning_rate': 4.180084745762712e-05, 'epoch': 1.65}\n",
      "{'loss': 0.7715, 'grad_norm': 8.5003023147583, 'learning_rate': 4.158898305084746e-05, 'epoch': 1.69}\n"
     ]
    },
    {
     "data": {
      "application/vnd.jupyter.widget-view+json": {
       "model_id": "76f06e132268473d80a3d269fa1559a7",
       "version_major": 2,
       "version_minor": 0
      },
      "text/plain": [
       "  0%|          | 0/114 [00:00<?, ?it/s]"
      ]
     },
     "metadata": {},
     "output_type": "display_data"
    },
    {
     "name": "stdout",
     "output_type": "stream",
     "text": [
      "{'eval_loss': 1.1535677909851074, 'eval_accuracy': 0.5834254143646409, 'eval_precision': 0.6521873813705926, 'eval_recall': 0.5834254143646409, 'eval_f1': 0.5465822853788804, 'eval_runtime': 6.9718, 'eval_samples_per_second': 129.808, 'eval_steps_per_second': 16.352, 'epoch': 1.69}\n",
      "{'loss': 0.6811, 'grad_norm': 8.741164207458496, 'learning_rate': 4.1377118644067797e-05, 'epoch': 1.74}\n",
      "{'loss': 0.7047, 'grad_norm': 8.004161834716797, 'learning_rate': 4.116525423728814e-05, 'epoch': 1.78}\n",
      "{'loss': 1.0156, 'grad_norm': 8.333066940307617, 'learning_rate': 4.0953389830508476e-05, 'epoch': 1.82}\n",
      "{'loss': 0.6671, 'grad_norm': 8.817276000976562, 'learning_rate': 4.074152542372881e-05, 'epoch': 1.86}\n",
      "{'loss': 0.6319, 'grad_norm': 6.339125633239746, 'learning_rate': 4.0529661016949156e-05, 'epoch': 1.91}\n",
      "{'loss': 0.6844, 'grad_norm': 7.746669292449951, 'learning_rate': 4.031779661016949e-05, 'epoch': 1.95}\n",
      "{'loss': 0.7559, 'grad_norm': 11.195008277893066, 'learning_rate': 4.0105932203389835e-05, 'epoch': 1.99}\n",
      "{'loss': 0.6931, 'grad_norm': 8.44437026977539, 'learning_rate': 3.989406779661017e-05, 'epoch': 2.03}\n",
      "{'loss': 0.5754, 'grad_norm': 8.966115951538086, 'learning_rate': 3.968220338983051e-05, 'epoch': 2.08}\n",
      "{'loss': 0.646, 'grad_norm': 6.427661418914795, 'learning_rate': 3.9470338983050844e-05, 'epoch': 2.12}\n"
     ]
    },
    {
     "data": {
      "application/vnd.jupyter.widget-view+json": {
       "model_id": "cb8a323a122547f9bde82c65d586f326",
       "version_major": 2,
       "version_minor": 0
      },
      "text/plain": [
       "  0%|          | 0/114 [00:00<?, ?it/s]"
      ]
     },
     "metadata": {},
     "output_type": "display_data"
    },
    {
     "name": "stdout",
     "output_type": "stream",
     "text": [
      "{'eval_loss': 0.9567936062812805, 'eval_accuracy': 0.611049723756906, 'eval_precision': 0.6288571902587222, 'eval_recall': 0.611049723756906, 'eval_f1': 0.6169281189774889, 'eval_runtime': 7.0013, 'eval_samples_per_second': 129.261, 'eval_steps_per_second': 16.283, 'epoch': 2.12}\n",
      "{'loss': 0.5218, 'grad_norm': 4.636612892150879, 'learning_rate': 3.925847457627119e-05, 'epoch': 2.16}\n",
      "{'loss': 0.6288, 'grad_norm': 9.713019371032715, 'learning_rate': 3.9046610169491524e-05, 'epoch': 2.2}\n",
      "{'loss': 0.5341, 'grad_norm': 6.354191303253174, 'learning_rate': 3.883474576271187e-05, 'epoch': 2.25}\n",
      "{'loss': 0.3838, 'grad_norm': 3.3089637756347656, 'learning_rate': 3.86228813559322e-05, 'epoch': 2.29}\n",
      "{'loss': 0.5023, 'grad_norm': 5.590969562530518, 'learning_rate': 3.8411016949152546e-05, 'epoch': 2.33}\n",
      "{'loss': 0.6601, 'grad_norm': 8.844505310058594, 'learning_rate': 3.819915254237288e-05, 'epoch': 2.37}\n",
      "{'loss': 0.4983, 'grad_norm': 6.218653202056885, 'learning_rate': 3.7987288135593226e-05, 'epoch': 2.42}\n",
      "{'loss': 0.4732, 'grad_norm': 9.259503364562988, 'learning_rate': 3.777542372881356e-05, 'epoch': 2.46}\n",
      "{'loss': 0.4845, 'grad_norm': 10.473814964294434, 'learning_rate': 3.75635593220339e-05, 'epoch': 2.5}\n",
      "{'loss': 0.5348, 'grad_norm': 7.908803939819336, 'learning_rate': 3.7351694915254235e-05, 'epoch': 2.54}\n"
     ]
    },
    {
     "data": {
      "application/vnd.jupyter.widget-view+json": {
       "model_id": "19a3931e5eaf45f1a654564b7c9d9b09",
       "version_major": 2,
       "version_minor": 0
      },
      "text/plain": [
       "  0%|          | 0/114 [00:00<?, ?it/s]"
      ]
     },
     "metadata": {},
     "output_type": "display_data"
    },
    {
     "name": "stdout",
     "output_type": "stream",
     "text": [
      "{'eval_loss': 0.9188376665115356, 'eval_accuracy': 0.6198895027624309, 'eval_precision': 0.6177910743219333, 'eval_recall': 0.6198895027624309, 'eval_f1': 0.6182594011193133, 'eval_runtime': 7.0295, 'eval_samples_per_second': 128.744, 'eval_steps_per_second': 16.217, 'epoch': 2.54}\n",
      "{'loss': 0.4045, 'grad_norm': 6.786558628082275, 'learning_rate': 3.713983050847458e-05, 'epoch': 2.58}\n",
      "{'loss': 0.5705, 'grad_norm': 11.156797409057617, 'learning_rate': 3.6927966101694914e-05, 'epoch': 2.63}\n",
      "{'loss': 0.6019, 'grad_norm': 3.9266834259033203, 'learning_rate': 3.671610169491526e-05, 'epoch': 2.67}\n",
      "{'loss': 0.6011, 'grad_norm': 13.746156692504883, 'learning_rate': 3.6504237288135594e-05, 'epoch': 2.71}\n",
      "{'loss': 0.5526, 'grad_norm': 6.688516616821289, 'learning_rate': 3.629237288135594e-05, 'epoch': 2.75}\n",
      "{'loss': 0.5071, 'grad_norm': 5.1260833740234375, 'learning_rate': 3.608050847457627e-05, 'epoch': 2.8}\n",
      "{'loss': 0.4592, 'grad_norm': 10.460002899169922, 'learning_rate': 3.5868644067796617e-05, 'epoch': 2.84}\n",
      "{'loss': 0.568, 'grad_norm': 6.6925950050354, 'learning_rate': 3.565677966101695e-05, 'epoch': 2.88}\n",
      "{'loss': 0.4789, 'grad_norm': 11.484466552734375, 'learning_rate': 3.544491525423729e-05, 'epoch': 2.92}\n",
      "{'loss': 0.5027, 'grad_norm': 8.963468551635742, 'learning_rate': 3.5233050847457626e-05, 'epoch': 2.97}\n"
     ]
    },
    {
     "data": {
      "application/vnd.jupyter.widget-view+json": {
       "model_id": "68bcddb921b24c5ea8000706ddc99a73",
       "version_major": 2,
       "version_minor": 0
      },
      "text/plain": [
       "  0%|          | 0/114 [00:00<?, ?it/s]"
      ]
     },
     "metadata": {},
     "output_type": "display_data"
    },
    {
     "name": "stdout",
     "output_type": "stream",
     "text": [
      "{'eval_loss': 0.9100421667098999, 'eval_accuracy': 0.6607734806629835, 'eval_precision': 0.6751963596859927, 'eval_recall': 0.6607734806629835, 'eval_f1': 0.6637408598298367, 'eval_runtime': 7.02, 'eval_samples_per_second': 128.917, 'eval_steps_per_second': 16.239, 'epoch': 2.97}\n",
      "{'loss': 0.7037, 'grad_norm': 7.908899307250977, 'learning_rate': 3.502118644067797e-05, 'epoch': 3.01}\n",
      "{'loss': 0.4209, 'grad_norm': 7.343352317810059, 'learning_rate': 3.4809322033898305e-05, 'epoch': 3.05}\n",
      "{'loss': 0.2332, 'grad_norm': 3.7378792762756348, 'learning_rate': 3.459745762711865e-05, 'epoch': 3.09}\n",
      "{'loss': 0.2802, 'grad_norm': 7.202507495880127, 'learning_rate': 3.4385593220338985e-05, 'epoch': 3.14}\n",
      "{'loss': 0.2804, 'grad_norm': 4.644125461578369, 'learning_rate': 3.417372881355933e-05, 'epoch': 3.18}\n",
      "{'loss': 0.2718, 'grad_norm': 2.566854238510132, 'learning_rate': 3.3961864406779664e-05, 'epoch': 3.22}\n",
      "{'loss': 0.2774, 'grad_norm': 7.240749359130859, 'learning_rate': 3.375000000000001e-05, 'epoch': 3.26}\n",
      "{'loss': 0.3735, 'grad_norm': 6.828999042510986, 'learning_rate': 3.353813559322034e-05, 'epoch': 3.31}\n",
      "{'loss': 0.3007, 'grad_norm': 4.713872909545898, 'learning_rate': 3.332627118644068e-05, 'epoch': 3.35}\n",
      "{'loss': 0.3158, 'grad_norm': 6.6449384689331055, 'learning_rate': 3.3114406779661016e-05, 'epoch': 3.39}\n"
     ]
    },
    {
     "data": {
      "application/vnd.jupyter.widget-view+json": {
       "model_id": "63af4e4567e5429b97faddaba79aa039",
       "version_major": 2,
       "version_minor": 0
      },
      "text/plain": [
       "  0%|          | 0/114 [00:00<?, ?it/s]"
      ]
     },
     "metadata": {},
     "output_type": "display_data"
    },
    {
     "name": "stdout",
     "output_type": "stream",
     "text": [
      "{'eval_loss': 1.0821460485458374, 'eval_accuracy': 0.5911602209944752, 'eval_precision': 0.6218296268508681, 'eval_recall': 0.5911602209944752, 'eval_f1': 0.590409400168999, 'eval_runtime': 7.0457, 'eval_samples_per_second': 128.446, 'eval_steps_per_second': 16.18, 'epoch': 3.39}\n",
      "{'loss': 0.3621, 'grad_norm': 4.669732570648193, 'learning_rate': 3.290254237288136e-05, 'epoch': 3.43}\n",
      "{'loss': 0.2912, 'grad_norm': 6.292046546936035, 'learning_rate': 3.2690677966101696e-05, 'epoch': 3.47}\n",
      "{'loss': 0.3139, 'grad_norm': 9.630937576293945, 'learning_rate': 3.247881355932203e-05, 'epoch': 3.52}\n",
      "{'loss': 0.279, 'grad_norm': 3.6577982902526855, 'learning_rate': 3.2266949152542375e-05, 'epoch': 3.56}\n",
      "{'loss': 0.3465, 'grad_norm': 5.74441385269165, 'learning_rate': 3.205508474576271e-05, 'epoch': 3.6}\n",
      "{'loss': 0.386, 'grad_norm': 18.881990432739258, 'learning_rate': 3.1843220338983055e-05, 'epoch': 3.64}\n",
      "{'loss': 0.3201, 'grad_norm': 12.033082962036133, 'learning_rate': 3.163135593220339e-05, 'epoch': 3.69}\n",
      "{'loss': 0.3134, 'grad_norm': 15.783799171447754, 'learning_rate': 3.141949152542373e-05, 'epoch': 3.73}\n",
      "{'loss': 0.2942, 'grad_norm': 6.975196361541748, 'learning_rate': 3.1207627118644064e-05, 'epoch': 3.77}\n",
      "{'loss': 0.3284, 'grad_norm': 7.766890048980713, 'learning_rate': 3.099576271186441e-05, 'epoch': 3.81}\n"
     ]
    },
    {
     "data": {
      "application/vnd.jupyter.widget-view+json": {
       "model_id": "69f99c6a358d4c18b87b64db179cf66c",
       "version_major": 2,
       "version_minor": 0
      },
      "text/plain": [
       "  0%|          | 0/114 [00:00<?, ?it/s]"
      ]
     },
     "metadata": {},
     "output_type": "display_data"
    },
    {
     "name": "stdout",
     "output_type": "stream",
     "text": [
      "{'eval_loss': 1.0108590126037598, 'eval_accuracy': 0.6386740331491713, 'eval_precision': 0.6578810673980335, 'eval_recall': 0.6386740331491713, 'eval_f1': 0.640305251877368, 'eval_runtime': 7.0652, 'eval_samples_per_second': 128.092, 'eval_steps_per_second': 16.135, 'epoch': 3.81}\n",
      "{'loss': 0.291, 'grad_norm': 9.812150955200195, 'learning_rate': 3.078389830508474e-05, 'epoch': 3.86}\n",
      "{'loss': 0.3077, 'grad_norm': 10.15845012664795, 'learning_rate': 3.0572033898305086e-05, 'epoch': 3.9}\n",
      "{'loss': 0.3192, 'grad_norm': 11.038859367370605, 'learning_rate': 3.0360169491525426e-05, 'epoch': 3.94}\n",
      "{'loss': 0.4067, 'grad_norm': 7.538419246673584, 'learning_rate': 3.0148305084745766e-05, 'epoch': 3.98}\n",
      "{'loss': 0.252, 'grad_norm': 9.898098945617676, 'learning_rate': 2.9936440677966106e-05, 'epoch': 4.03}\n",
      "{'loss': 0.1714, 'grad_norm': 4.892890930175781, 'learning_rate': 2.9724576271186445e-05, 'epoch': 4.07}\n",
      "{'loss': 0.1583, 'grad_norm': 2.6443281173706055, 'learning_rate': 2.9512711864406782e-05, 'epoch': 4.11}\n",
      "{'loss': 0.1951, 'grad_norm': 5.869475841522217, 'learning_rate': 2.9300847457627118e-05, 'epoch': 4.15}\n",
      "{'loss': 0.1271, 'grad_norm': 3.6865317821502686, 'learning_rate': 2.9088983050847458e-05, 'epoch': 4.19}\n",
      "{'loss': 0.1367, 'grad_norm': 2.2787113189697266, 'learning_rate': 2.8877118644067798e-05, 'epoch': 4.24}\n"
     ]
    },
    {
     "data": {
      "application/vnd.jupyter.widget-view+json": {
       "model_id": "f5beb6f77d764bc3bf3af0dca03eb04a",
       "version_major": 2,
       "version_minor": 0
      },
      "text/plain": [
       "  0%|          | 0/114 [00:00<?, ?it/s]"
      ]
     },
     "metadata": {},
     "output_type": "display_data"
    },
    {
     "name": "stdout",
     "output_type": "stream",
     "text": [
      "{'eval_loss': 1.0443743467330933, 'eval_accuracy': 0.6276243093922652, 'eval_precision': 0.6244641651103858, 'eval_recall': 0.6276243093922652, 'eval_f1': 0.6146439204191904, 'eval_runtime': 7.027, 'eval_samples_per_second': 128.79, 'eval_steps_per_second': 16.223, 'epoch': 4.24}\n",
      "{'loss': 0.1348, 'grad_norm': 3.5360970497131348, 'learning_rate': 2.8665254237288137e-05, 'epoch': 4.28}\n",
      "{'loss': 0.1384, 'grad_norm': 5.331282615661621, 'learning_rate': 2.8453389830508477e-05, 'epoch': 4.32}\n",
      "{'loss': 0.1173, 'grad_norm': 5.184047222137451, 'learning_rate': 2.8241525423728814e-05, 'epoch': 4.36}\n",
      "{'loss': 0.1966, 'grad_norm': 10.24756908416748, 'learning_rate': 2.8029661016949153e-05, 'epoch': 4.41}\n",
      "{'loss': 0.1473, 'grad_norm': 6.799671649932861, 'learning_rate': 2.7817796610169493e-05, 'epoch': 4.45}\n",
      "{'loss': 0.1363, 'grad_norm': 5.290993690490723, 'learning_rate': 2.7605932203389833e-05, 'epoch': 4.49}\n",
      "{'loss': 0.1404, 'grad_norm': 7.3325724601745605, 'learning_rate': 2.7394067796610173e-05, 'epoch': 4.53}\n",
      "{'loss': 0.1386, 'grad_norm': 7.9971604347229, 'learning_rate': 2.718220338983051e-05, 'epoch': 4.58}\n",
      "{'loss': 0.2046, 'grad_norm': 7.486217975616455, 'learning_rate': 2.6970338983050845e-05, 'epoch': 4.62}\n",
      "{'loss': 0.1269, 'grad_norm': 4.685671806335449, 'learning_rate': 2.6758474576271185e-05, 'epoch': 4.66}\n"
     ]
    },
    {
     "data": {
      "application/vnd.jupyter.widget-view+json": {
       "model_id": "482f5db7166348d29b990816c365a1e7",
       "version_major": 2,
       "version_minor": 0
      },
      "text/plain": [
       "  0%|          | 0/114 [00:00<?, ?it/s]"
      ]
     },
     "metadata": {},
     "output_type": "display_data"
    },
    {
     "name": "stdout",
     "output_type": "stream",
     "text": [
      "{'eval_loss': 1.120589017868042, 'eval_accuracy': 0.6353591160220995, 'eval_precision': 0.6336213946221242, 'eval_recall': 0.6353591160220995, 'eval_f1': 0.6273032371486374, 'eval_runtime': 6.9978, 'eval_samples_per_second': 129.327, 'eval_steps_per_second': 16.291, 'epoch': 4.66}\n",
      "{'loss': 0.1486, 'grad_norm': 18.092220306396484, 'learning_rate': 2.6546610169491525e-05, 'epoch': 4.7}\n",
      "{'loss': 0.149, 'grad_norm': 9.24963092803955, 'learning_rate': 2.6334745762711865e-05, 'epoch': 4.75}\n",
      "{'loss': 0.1631, 'grad_norm': 8.231568336486816, 'learning_rate': 2.6122881355932204e-05, 'epoch': 4.79}\n",
      "{'loss': 0.1143, 'grad_norm': 4.070137977600098, 'learning_rate': 2.5911016949152544e-05, 'epoch': 4.83}\n",
      "{'loss': 0.1359, 'grad_norm': 6.593826770782471, 'learning_rate': 2.5699152542372884e-05, 'epoch': 4.87}\n",
      "{'loss': 0.1241, 'grad_norm': 4.943995475769043, 'learning_rate': 2.5487288135593224e-05, 'epoch': 4.92}\n",
      "{'loss': 0.1267, 'grad_norm': 6.646225452423096, 'learning_rate': 2.5275423728813563e-05, 'epoch': 4.96}\n",
      "{'loss': 0.1022, 'grad_norm': 0.00640282966196537, 'learning_rate': 2.5063559322033896e-05, 'epoch': 5.0}\n",
      "{'loss': 0.0588, 'grad_norm': 2.9434926509857178, 'learning_rate': 2.485169491525424e-05, 'epoch': 5.04}\n",
      "{'loss': 0.0733, 'grad_norm': 3.51824951171875, 'learning_rate': 2.4639830508474576e-05, 'epoch': 5.08}\n"
     ]
    },
    {
     "data": {
      "application/vnd.jupyter.widget-view+json": {
       "model_id": "d32406139c4c40f590cddf9513ee1da1",
       "version_major": 2,
       "version_minor": 0
      },
      "text/plain": [
       "  0%|          | 0/114 [00:00<?, ?it/s]"
      ]
     },
     "metadata": {},
     "output_type": "display_data"
    },
    {
     "name": "stdout",
     "output_type": "stream",
     "text": [
      "{'eval_loss': 1.0815123319625854, 'eval_accuracy': 0.6541436464088398, 'eval_precision': 0.6722808684465286, 'eval_recall': 0.6541436464088398, 'eval_f1': 0.6572308276492534, 'eval_runtime': 7.0227, 'eval_samples_per_second': 128.868, 'eval_steps_per_second': 16.233, 'epoch': 5.08}\n",
      "{'loss': 0.0593, 'grad_norm': 2.5291764736175537, 'learning_rate': 2.4427966101694915e-05, 'epoch': 5.13}\n",
      "{'loss': 0.0311, 'grad_norm': 1.6286453008651733, 'learning_rate': 2.4216101694915255e-05, 'epoch': 5.17}\n",
      "{'loss': 0.0425, 'grad_norm': 1.8574614524841309, 'learning_rate': 2.4004237288135595e-05, 'epoch': 5.21}\n",
      "{'loss': 0.0645, 'grad_norm': 3.3376286029815674, 'learning_rate': 2.3792372881355935e-05, 'epoch': 5.25}\n",
      "{'loss': 0.0537, 'grad_norm': 5.972339630126953, 'learning_rate': 2.358050847457627e-05, 'epoch': 5.3}\n",
      "{'loss': 0.0599, 'grad_norm': 2.4735734462738037, 'learning_rate': 2.336864406779661e-05, 'epoch': 5.34}\n",
      "{'loss': 0.0516, 'grad_norm': 3.3025097846984863, 'learning_rate': 2.315677966101695e-05, 'epoch': 5.38}\n",
      "{'loss': 0.0795, 'grad_norm': 4.264950752258301, 'learning_rate': 2.294491525423729e-05, 'epoch': 5.42}\n",
      "{'loss': 0.0363, 'grad_norm': 1.2192100286483765, 'learning_rate': 2.273305084745763e-05, 'epoch': 5.47}\n",
      "{'loss': 0.0294, 'grad_norm': 0.7172867655754089, 'learning_rate': 2.2521186440677966e-05, 'epoch': 5.51}\n"
     ]
    },
    {
     "data": {
      "application/vnd.jupyter.widget-view+json": {
       "model_id": "259ba8a6e5ff4af4a6c858793f584b1b",
       "version_major": 2,
       "version_minor": 0
      },
      "text/plain": [
       "  0%|          | 0/114 [00:00<?, ?it/s]"
      ]
     },
     "metadata": {},
     "output_type": "display_data"
    },
    {
     "name": "stdout",
     "output_type": "stream",
     "text": [
      "{'eval_loss': 1.269785761833191, 'eval_accuracy': 0.6486187845303868, 'eval_precision': 0.655763776129835, 'eval_recall': 0.6486187845303868, 'eval_f1': 0.6449207826599932, 'eval_runtime': 6.9622, 'eval_samples_per_second': 129.987, 'eval_steps_per_second': 16.374, 'epoch': 5.51}\n",
      "{'loss': 0.0378, 'grad_norm': 2.9294545650482178, 'learning_rate': 2.2309322033898306e-05, 'epoch': 5.55}\n",
      "{'loss': 0.0308, 'grad_norm': 0.3869571387767792, 'learning_rate': 2.2097457627118646e-05, 'epoch': 5.59}\n",
      "{'loss': 0.0442, 'grad_norm': 7.035733222961426, 'learning_rate': 2.1885593220338986e-05, 'epoch': 5.64}\n",
      "{'loss': 0.0549, 'grad_norm': 2.1625025272369385, 'learning_rate': 2.1673728813559325e-05, 'epoch': 5.68}\n",
      "{'loss': 0.0456, 'grad_norm': 8.810321807861328, 'learning_rate': 2.1461864406779662e-05, 'epoch': 5.72}\n",
      "{'loss': 0.0342, 'grad_norm': 1.4686696529388428, 'learning_rate': 2.125e-05, 'epoch': 5.76}\n",
      "{'loss': 0.0364, 'grad_norm': 4.746033191680908, 'learning_rate': 2.103813559322034e-05, 'epoch': 5.81}\n",
      "{'loss': 0.0396, 'grad_norm': 0.600920557975769, 'learning_rate': 2.082627118644068e-05, 'epoch': 5.85}\n",
      "{'loss': 0.0438, 'grad_norm': 6.274702548980713, 'learning_rate': 2.0614406779661017e-05, 'epoch': 5.89}\n",
      "{'loss': 0.0325, 'grad_norm': 0.7862651348114014, 'learning_rate': 2.0402542372881357e-05, 'epoch': 5.93}\n"
     ]
    },
    {
     "data": {
      "application/vnd.jupyter.widget-view+json": {
       "model_id": "87a10b53992646fb9f74c95aec8b3fe8",
       "version_major": 2,
       "version_minor": 0
      },
      "text/plain": [
       "  0%|          | 0/114 [00:00<?, ?it/s]"
      ]
     },
     "metadata": {},
     "output_type": "display_data"
    },
    {
     "name": "stdout",
     "output_type": "stream",
     "text": [
      "{'eval_loss': 1.3872288465499878, 'eval_accuracy': 0.630939226519337, 'eval_precision': 0.6325977375732607, 'eval_recall': 0.630939226519337, 'eval_f1': 0.621710741794161, 'eval_runtime': 6.9747, 'eval_samples_per_second': 129.755, 'eval_steps_per_second': 16.345, 'epoch': 5.93}\n",
      "{'loss': 0.0565, 'grad_norm': 14.437975883483887, 'learning_rate': 2.0190677966101697e-05, 'epoch': 5.97}\n",
      "{'loss': 0.0363, 'grad_norm': 2.699342727661133, 'learning_rate': 1.9978813559322033e-05, 'epoch': 6.02}\n",
      "{'loss': 0.0238, 'grad_norm': 0.5630282759666443, 'learning_rate': 1.9766949152542373e-05, 'epoch': 6.06}\n",
      "{'loss': 0.0188, 'grad_norm': 0.6141085028648376, 'learning_rate': 1.9555084745762713e-05, 'epoch': 6.1}\n",
      "{'loss': 0.016, 'grad_norm': 3.182340621948242, 'learning_rate': 1.934322033898305e-05, 'epoch': 6.14}\n",
      "{'loss': 0.0143, 'grad_norm': 0.6292985081672668, 'learning_rate': 1.913135593220339e-05, 'epoch': 6.19}\n",
      "{'loss': 0.0085, 'grad_norm': 0.5470725297927856, 'learning_rate': 1.891949152542373e-05, 'epoch': 6.23}\n",
      "{'loss': 0.0101, 'grad_norm': 0.9245867729187012, 'learning_rate': 1.870762711864407e-05, 'epoch': 6.27}\n",
      "{'loss': 0.01, 'grad_norm': 1.2606849670410156, 'learning_rate': 1.8495762711864408e-05, 'epoch': 6.31}\n",
      "{'loss': 0.0142, 'grad_norm': 0.2399691641330719, 'learning_rate': 1.8283898305084744e-05, 'epoch': 6.36}\n"
     ]
    },
    {
     "data": {
      "application/vnd.jupyter.widget-view+json": {
       "model_id": "216151ae46bb439d81466a09d9a2fd55",
       "version_major": 2,
       "version_minor": 0
      },
      "text/plain": [
       "  0%|          | 0/114 [00:00<?, ?it/s]"
      ]
     },
     "metadata": {},
     "output_type": "display_data"
    },
    {
     "name": "stdout",
     "output_type": "stream",
     "text": [
      "{'eval_loss': 1.4188685417175293, 'eval_accuracy': 0.6397790055248619, 'eval_precision': 0.6469088649602887, 'eval_recall': 0.6397790055248619, 'eval_f1': 0.6354780641061185, 'eval_runtime': 7.0148, 'eval_samples_per_second': 129.014, 'eval_steps_per_second': 16.251, 'epoch': 6.36}\n",
      "{'loss': 0.0091, 'grad_norm': 0.3465679883956909, 'learning_rate': 1.8072033898305084e-05, 'epoch': 6.4}\n",
      "{'loss': 0.0093, 'grad_norm': 0.6324267387390137, 'learning_rate': 1.7860169491525424e-05, 'epoch': 6.44}\n",
      "{'loss': 0.0079, 'grad_norm': 0.33108845353126526, 'learning_rate': 1.7648305084745764e-05, 'epoch': 6.48}\n",
      "{'loss': 0.0095, 'grad_norm': 0.24289800226688385, 'learning_rate': 1.7436440677966103e-05, 'epoch': 6.53}\n",
      "{'loss': 0.0075, 'grad_norm': 0.2144320160150528, 'learning_rate': 1.722457627118644e-05, 'epoch': 6.57}\n",
      "{'loss': 0.0089, 'grad_norm': 1.6761102676391602, 'learning_rate': 1.701271186440678e-05, 'epoch': 6.61}\n",
      "{'loss': 0.0159, 'grad_norm': 3.6873245239257812, 'learning_rate': 1.680084745762712e-05, 'epoch': 6.65}\n",
      "{'loss': 0.0267, 'grad_norm': 1.6656233072280884, 'learning_rate': 1.658898305084746e-05, 'epoch': 6.69}\n",
      "{'loss': 0.02, 'grad_norm': 9.02657699584961, 'learning_rate': 1.63771186440678e-05, 'epoch': 6.74}\n",
      "{'loss': 0.0122, 'grad_norm': 0.6360718607902527, 'learning_rate': 1.6165254237288135e-05, 'epoch': 6.78}\n"
     ]
    },
    {
     "data": {
      "application/vnd.jupyter.widget-view+json": {
       "model_id": "911d12796e464ee180ebaa9111b6e0a7",
       "version_major": 2,
       "version_minor": 0
      },
      "text/plain": [
       "  0%|          | 0/114 [00:00<?, ?it/s]"
      ]
     },
     "metadata": {},
     "output_type": "display_data"
    },
    {
     "name": "stdout",
     "output_type": "stream",
     "text": [
      "{'eval_loss': 1.4651143550872803, 'eval_accuracy': 0.6375690607734806, 'eval_precision': 0.6402621959694129, 'eval_recall': 0.6375690607734806, 'eval_f1': 0.6313073895892909, 'eval_runtime': 7.0285, 'eval_samples_per_second': 128.762, 'eval_steps_per_second': 16.22, 'epoch': 6.78}\n",
      "{'loss': 0.0085, 'grad_norm': 1.6042416095733643, 'learning_rate': 1.5953389830508475e-05, 'epoch': 6.82}\n",
      "{'loss': 0.0151, 'grad_norm': 1.4477825164794922, 'learning_rate': 1.5741525423728815e-05, 'epoch': 6.86}\n",
      "{'loss': 0.0063, 'grad_norm': 1.9307973384857178, 'learning_rate': 1.5529661016949154e-05, 'epoch': 6.91}\n",
      "{'loss': 0.0118, 'grad_norm': 1.3263036012649536, 'learning_rate': 1.5317796610169494e-05, 'epoch': 6.95}\n",
      "{'loss': 0.009, 'grad_norm': 0.5736232995986938, 'learning_rate': 1.510593220338983e-05, 'epoch': 6.99}\n",
      "{'loss': 0.0047, 'grad_norm': 0.706710934638977, 'learning_rate': 1.489406779661017e-05, 'epoch': 7.03}\n",
      "{'loss': 0.0031, 'grad_norm': 0.0903150662779808, 'learning_rate': 1.468220338983051e-05, 'epoch': 7.08}\n",
      "{'loss': 0.0061, 'grad_norm': 0.11156883835792542, 'learning_rate': 1.447033898305085e-05, 'epoch': 7.12}\n",
      "{'loss': 0.0027, 'grad_norm': 0.1381911337375641, 'learning_rate': 1.4258474576271186e-05, 'epoch': 7.16}\n",
      "{'loss': 0.0026, 'grad_norm': 0.09961560368537903, 'learning_rate': 1.4046610169491526e-05, 'epoch': 7.2}\n"
     ]
    },
    {
     "data": {
      "application/vnd.jupyter.widget-view+json": {
       "model_id": "08da284caef0489cb53a7e07b9483f04",
       "version_major": 2,
       "version_minor": 0
      },
      "text/plain": [
       "  0%|          | 0/114 [00:00<?, ?it/s]"
      ]
     },
     "metadata": {},
     "output_type": "display_data"
    },
    {
     "name": "stdout",
     "output_type": "stream",
     "text": [
      "{'eval_loss': 1.5372898578643799, 'eval_accuracy': 0.63646408839779, 'eval_precision': 0.6375595849508836, 'eval_recall': 0.63646408839779, 'eval_f1': 0.6327554434719412, 'eval_runtime': 6.9352, 'eval_samples_per_second': 130.494, 'eval_steps_per_second': 16.438, 'epoch': 7.2}\n",
      "{'loss': 0.0029, 'grad_norm': 0.2819845974445343, 'learning_rate': 1.3834745762711866e-05, 'epoch': 7.25}\n",
      "{'loss': 0.0036, 'grad_norm': 0.6126620769500732, 'learning_rate': 1.3622881355932204e-05, 'epoch': 7.29}\n",
      "{'loss': 0.0018, 'grad_norm': 0.18634407222270966, 'learning_rate': 1.3411016949152543e-05, 'epoch': 7.33}\n",
      "{'loss': 0.0024, 'grad_norm': 0.33525991439819336, 'learning_rate': 1.3199152542372881e-05, 'epoch': 7.37}\n",
      "{'loss': 0.0018, 'grad_norm': 0.10686402767896652, 'learning_rate': 1.298728813559322e-05, 'epoch': 7.42}\n",
      "{'loss': 0.0038, 'grad_norm': 0.06207828223705292, 'learning_rate': 1.277542372881356e-05, 'epoch': 7.46}\n",
      "{'loss': 0.0022, 'grad_norm': 0.1578681319952011, 'learning_rate': 1.2563559322033899e-05, 'epoch': 7.5}\n",
      "{'loss': 0.0023, 'grad_norm': 0.1314987987279892, 'learning_rate': 1.2351694915254237e-05, 'epoch': 7.54}\n",
      "{'loss': 0.0026, 'grad_norm': 0.10070086270570755, 'learning_rate': 1.2139830508474577e-05, 'epoch': 7.58}\n",
      "{'loss': 0.0018, 'grad_norm': 0.6759310960769653, 'learning_rate': 1.1927966101694917e-05, 'epoch': 7.63}\n"
     ]
    },
    {
     "data": {
      "application/vnd.jupyter.widget-view+json": {
       "model_id": "c92c654a0fcc436f9b6c33bc87f52f51",
       "version_major": 2,
       "version_minor": 0
      },
      "text/plain": [
       "  0%|          | 0/114 [00:00<?, ?it/s]"
      ]
     },
     "metadata": {},
     "output_type": "display_data"
    },
    {
     "name": "stdout",
     "output_type": "stream",
     "text": [
      "{'eval_loss': 1.5689345598220825, 'eval_accuracy': 0.6397790055248619, 'eval_precision': 0.6443369117218846, 'eval_recall': 0.6397790055248619, 'eval_f1': 0.6373523305099794, 'eval_runtime': 6.9721, 'eval_samples_per_second': 129.804, 'eval_steps_per_second': 16.351, 'epoch': 7.63}\n",
      "{'loss': 0.0019, 'grad_norm': 0.05572817102074623, 'learning_rate': 1.1716101694915255e-05, 'epoch': 7.67}\n",
      "{'loss': 0.0023, 'grad_norm': 0.7961853742599487, 'learning_rate': 1.1504237288135594e-05, 'epoch': 7.71}\n",
      "{'loss': 0.0021, 'grad_norm': 0.09453441947698593, 'learning_rate': 1.1292372881355932e-05, 'epoch': 7.75}\n",
      "{'loss': 0.0024, 'grad_norm': 0.24578362703323364, 'learning_rate': 1.1080508474576272e-05, 'epoch': 7.8}\n",
      "{'loss': 0.0016, 'grad_norm': 0.07784632593393326, 'learning_rate': 1.086864406779661e-05, 'epoch': 7.84}\n",
      "{'loss': 0.003, 'grad_norm': 0.3498338758945465, 'learning_rate': 1.065677966101695e-05, 'epoch': 7.88}\n",
      "{'loss': 0.0034, 'grad_norm': 0.3788709044456482, 'learning_rate': 1.044491525423729e-05, 'epoch': 7.92}\n",
      "{'loss': 0.0017, 'grad_norm': 0.06355854868888855, 'learning_rate': 1.0233050847457628e-05, 'epoch': 7.97}\n",
      "{'loss': 0.0033, 'grad_norm': 0.1099313348531723, 'learning_rate': 1.0021186440677968e-05, 'epoch': 8.01}\n",
      "{'loss': 0.0011, 'grad_norm': 0.06844907253980637, 'learning_rate': 9.809322033898306e-06, 'epoch': 8.05}\n"
     ]
    },
    {
     "data": {
      "application/vnd.jupyter.widget-view+json": {
       "model_id": "217298fbb5a843238a684e505c70dcb1",
       "version_major": 2,
       "version_minor": 0
      },
      "text/plain": [
       "  0%|          | 0/114 [00:00<?, ?it/s]"
      ]
     },
     "metadata": {},
     "output_type": "display_data"
    },
    {
     "name": "stdout",
     "output_type": "stream",
     "text": [
      "{'eval_loss': 1.5405248403549194, 'eval_accuracy': 0.6475138121546962, 'eval_precision': 0.64889037180888, 'eval_recall': 0.6475138121546962, 'eval_f1': 0.647601714380261, 'eval_runtime': 7.0084, 'eval_samples_per_second': 129.131, 'eval_steps_per_second': 16.266, 'epoch': 8.05}\n",
      "{'loss': 0.0015, 'grad_norm': 0.8023620843887329, 'learning_rate': 9.597457627118645e-06, 'epoch': 8.09}\n",
      "{'loss': 0.0011, 'grad_norm': 0.06867803633213043, 'learning_rate': 9.385593220338983e-06, 'epoch': 8.14}\n",
      "{'loss': 0.0012, 'grad_norm': 0.05407997593283653, 'learning_rate': 9.173728813559321e-06, 'epoch': 8.18}\n",
      "{'loss': 0.0013, 'grad_norm': 0.097072534263134, 'learning_rate': 8.961864406779661e-06, 'epoch': 8.22}\n",
      "{'loss': 0.001, 'grad_norm': 0.026518691331148148, 'learning_rate': 8.75e-06, 'epoch': 8.26}\n",
      "{'loss': 0.0011, 'grad_norm': 0.06383247673511505, 'learning_rate': 8.538135593220339e-06, 'epoch': 8.31}\n",
      "{'loss': 0.0011, 'grad_norm': 0.04413522779941559, 'learning_rate': 8.326271186440679e-06, 'epoch': 8.35}\n",
      "{'loss': 0.0012, 'grad_norm': 0.07900512218475342, 'learning_rate': 8.114406779661017e-06, 'epoch': 8.39}\n",
      "{'loss': 0.001, 'grad_norm': 0.07013402134180069, 'learning_rate': 7.902542372881357e-06, 'epoch': 8.43}\n",
      "{'loss': 0.001, 'grad_norm': 0.134590283036232, 'learning_rate': 7.690677966101695e-06, 'epoch': 8.47}\n"
     ]
    },
    {
     "data": {
      "application/vnd.jupyter.widget-view+json": {
       "model_id": "c867fae178e44d9aaff1f60e2cdc4e73",
       "version_major": 2,
       "version_minor": 0
      },
      "text/plain": [
       "  0%|          | 0/114 [00:00<?, ?it/s]"
      ]
     },
     "metadata": {},
     "output_type": "display_data"
    },
    {
     "name": "stdout",
     "output_type": "stream",
     "text": [
      "{'eval_loss': 1.5936353206634521, 'eval_accuracy': 0.6541436464088398, 'eval_precision': 0.6518412383133928, 'eval_recall': 0.6541436464088398, 'eval_f1': 0.6512950846357748, 'eval_runtime': 6.9251, 'eval_samples_per_second': 130.683, 'eval_steps_per_second': 16.462, 'epoch': 8.47}\n",
      "{'loss': 0.0014, 'grad_norm': 0.10438597202301025, 'learning_rate': 7.478813559322034e-06, 'epoch': 8.52}\n",
      "{'loss': 0.0014, 'grad_norm': 0.1225394755601883, 'learning_rate': 7.266949152542374e-06, 'epoch': 8.56}\n",
      "{'loss': 0.0009, 'grad_norm': 0.07740975171327591, 'learning_rate': 7.055084745762712e-06, 'epoch': 8.6}\n",
      "{'loss': 0.001, 'grad_norm': 0.040078986436128616, 'learning_rate': 6.843220338983052e-06, 'epoch': 8.64}\n",
      "{'loss': 0.0009, 'grad_norm': 0.09473121911287308, 'learning_rate': 6.63135593220339e-06, 'epoch': 8.69}\n",
      "{'loss': 0.0013, 'grad_norm': 0.08369968086481094, 'learning_rate': 6.419491525423729e-06, 'epoch': 8.73}\n",
      "{'loss': 0.001, 'grad_norm': 0.07657002657651901, 'learning_rate': 6.207627118644068e-06, 'epoch': 8.77}\n",
      "{'loss': 0.0009, 'grad_norm': 0.061308395117521286, 'learning_rate': 5.995762711864407e-06, 'epoch': 8.81}\n",
      "{'loss': 0.001, 'grad_norm': 0.08240139484405518, 'learning_rate': 5.7838983050847455e-06, 'epoch': 8.86}\n",
      "{'loss': 0.0009, 'grad_norm': 0.06251536309719086, 'learning_rate': 5.572033898305085e-06, 'epoch': 8.9}\n"
     ]
    },
    {
     "data": {
      "application/vnd.jupyter.widget-view+json": {
       "model_id": "edf9968ebd73439ba6d8a7a186ad9cb9",
       "version_major": 2,
       "version_minor": 0
      },
      "text/plain": [
       "  0%|          | 0/114 [00:00<?, ?it/s]"
      ]
     },
     "metadata": {},
     "output_type": "display_data"
    },
    {
     "name": "stdout",
     "output_type": "stream",
     "text": [
      "{'eval_loss': 1.6206227540969849, 'eval_accuracy': 0.6497237569060773, 'eval_precision': 0.6465021096900179, 'eval_recall': 0.6497237569060773, 'eval_f1': 0.6454800092068237, 'eval_runtime': 6.9526, 'eval_samples_per_second': 130.167, 'eval_steps_per_second': 16.397, 'epoch': 8.9}\n",
      "{'loss': 0.0009, 'grad_norm': 0.0855693519115448, 'learning_rate': 5.360169491525424e-06, 'epoch': 8.94}\n",
      "{'loss': 0.001, 'grad_norm': 0.10975849628448486, 'learning_rate': 5.148305084745763e-06, 'epoch': 8.98}\n",
      "{'loss': 0.0009, 'grad_norm': 0.05465579405426979, 'learning_rate': 4.936440677966102e-06, 'epoch': 9.03}\n",
      "{'loss': 0.001, 'grad_norm': 0.04077761247754097, 'learning_rate': 4.724576271186441e-06, 'epoch': 9.07}\n",
      "{'loss': 0.0008, 'grad_norm': 0.027294278144836426, 'learning_rate': 4.51271186440678e-06, 'epoch': 9.11}\n",
      "{'loss': 0.001, 'grad_norm': 0.047495290637016296, 'learning_rate': 4.300847457627119e-06, 'epoch': 9.15}\n",
      "{'loss': 0.0008, 'grad_norm': 0.04055822268128395, 'learning_rate': 4.088983050847458e-06, 'epoch': 9.19}\n",
      "{'loss': 0.0009, 'grad_norm': 0.0499185249209404, 'learning_rate': 3.8771186440677965e-06, 'epoch': 9.24}\n",
      "{'loss': 0.0009, 'grad_norm': 0.08148086071014404, 'learning_rate': 3.6652542372881354e-06, 'epoch': 9.28}\n",
      "{'loss': 0.0008, 'grad_norm': 0.06407015025615692, 'learning_rate': 3.4533898305084743e-06, 'epoch': 9.32}\n"
     ]
    },
    {
     "data": {
      "application/vnd.jupyter.widget-view+json": {
       "model_id": "a62352fc18ba433bb88fb3301b2f326c",
       "version_major": 2,
       "version_minor": 0
      },
      "text/plain": [
       "  0%|          | 0/114 [00:00<?, ?it/s]"
      ]
     },
     "metadata": {},
     "output_type": "display_data"
    },
    {
     "name": "stdout",
     "output_type": "stream",
     "text": [
      "{'eval_loss': 1.6298973560333252, 'eval_accuracy': 0.6541436464088398, 'eval_precision': 0.6509033363158168, 'eval_recall': 0.6541436464088398, 'eval_f1': 0.6497853352834244, 'eval_runtime': 6.9971, 'eval_samples_per_second': 129.338, 'eval_steps_per_second': 16.292, 'epoch': 9.32}\n",
      "{'loss': 0.0008, 'grad_norm': 0.06421801447868347, 'learning_rate': 3.241525423728814e-06, 'epoch': 9.36}\n",
      "{'loss': 0.0008, 'grad_norm': 0.04872427135705948, 'learning_rate': 3.029661016949153e-06, 'epoch': 9.41}\n",
      "{'loss': 0.0008, 'grad_norm': 0.04480556398630142, 'learning_rate': 2.817796610169492e-06, 'epoch': 9.45}\n",
      "{'loss': 0.0008, 'grad_norm': 0.08226297795772552, 'learning_rate': 2.6059322033898303e-06, 'epoch': 9.49}\n",
      "{'loss': 0.0009, 'grad_norm': 0.036264531314373016, 'learning_rate': 2.3940677966101697e-06, 'epoch': 9.53}\n",
      "{'loss': 0.0011, 'grad_norm': 0.0338827483355999, 'learning_rate': 2.1822033898305086e-06, 'epoch': 9.58}\n",
      "{'loss': 0.0007, 'grad_norm': 0.05246584862470627, 'learning_rate': 1.970338983050848e-06, 'epoch': 9.62}\n",
      "{'loss': 0.0008, 'grad_norm': 0.03401629999279976, 'learning_rate': 1.7584745762711866e-06, 'epoch': 9.66}\n",
      "{'loss': 0.0009, 'grad_norm': 0.045612212270498276, 'learning_rate': 1.5466101694915255e-06, 'epoch': 9.7}\n",
      "{'loss': 0.0008, 'grad_norm': 0.04571152105927467, 'learning_rate': 1.3347457627118644e-06, 'epoch': 9.75}\n"
     ]
    },
    {
     "data": {
      "application/vnd.jupyter.widget-view+json": {
       "model_id": "e8e017ea7c5e4f68a1c8b575404fde17",
       "version_major": 2,
       "version_minor": 0
      },
      "text/plain": [
       "  0%|          | 0/114 [00:00<?, ?it/s]"
      ]
     },
     "metadata": {},
     "output_type": "display_data"
    },
    {
     "name": "stdout",
     "output_type": "stream",
     "text": [
      "{'eval_loss': 1.6342209577560425, 'eval_accuracy': 0.6574585635359116, 'eval_precision': 0.6548113782584233, 'eval_recall': 0.6574585635359116, 'eval_f1': 0.6535494395842923, 'eval_runtime': 7.0274, 'eval_samples_per_second': 128.781, 'eval_steps_per_second': 16.222, 'epoch': 9.75}\n",
      "{'loss': 0.0008, 'grad_norm': 0.022197166457772255, 'learning_rate': 1.1228813559322035e-06, 'epoch': 9.79}\n",
      "{'loss': 0.0009, 'grad_norm': 0.0444762147963047, 'learning_rate': 9.110169491525425e-07, 'epoch': 9.83}\n",
      "{'loss': 0.001, 'grad_norm': 0.03895612806081772, 'learning_rate': 6.991525423728814e-07, 'epoch': 9.87}\n",
      "{'loss': 0.0009, 'grad_norm': 0.03454240411520004, 'learning_rate': 4.872881355932204e-07, 'epoch': 9.92}\n",
      "{'loss': 0.0007, 'grad_norm': 0.06842169910669327, 'learning_rate': 2.7542372881355935e-07, 'epoch': 9.96}\n",
      "{'loss': 0.0009, 'grad_norm': 0.1448354721069336, 'learning_rate': 6.355932203389831e-08, 'epoch': 10.0}\n",
      "{'train_runtime': 978.5686, 'train_samples_per_second': 38.434, 'train_steps_per_second': 2.412, 'train_loss': 0.2838822100721931, 'epoch': 10.0}\n"
     ]
    }
   ],
   "source": [
    "import json\n",
    "import os\n",
    "import numpy as np\n",
    "import torch\n",
    "from torch.utils.data import Dataset, DataLoader\n",
    "from transformers import ViTForImageClassification, ViTFeatureExtractor, TrainingArguments, Trainer\n",
    "from sklearn.metrics import accuracy_score, precision_recall_fscore_support\n",
    "import cv2\n",
    "\n",
    "# Load annotations\n",
    "def load_annotations(json_file):\n",
    "    with open(json_file, 'r') as f:\n",
    "        annotation_data = json.load(f)\n",
    "    image_id_to_file = {img['id']: img['file_name'] for img in annotation_data['images']}\n",
    "    annotations = {image_id_to_file[ann['image_id']]: ann['category_id'] for ann in annotation_data['annotations']}\n",
    "    return annotations\n",
    "\n",
    "# Data generator function\n",
    "def data_generator(directory, annotations, batch_size=32, target_size=(224, 224)):\n",
    "    files = list(annotations.keys())\n",
    "    num_files = len(files)\n",
    "    while True:\n",
    "        np.random.shuffle(files)\n",
    "        for offset in range(0, num_files, batch_size):\n",
    "            batch_files = files[offset:offset+batch_size]\n",
    "            images = []\n",
    "            labels = []\n",
    "            for file in batch_files:\n",
    "                image_path = os.path.join(directory, file)\n",
    "                image = cv2.imread(image_path)\n",
    "                image = cv2.cvtColor(image, cv2.COLOR_BGR2RGB)\n",
    "                image = cv2.resize(image, target_size)\n",
    "                images.append(image)\n",
    "                labels.append(annotations[file])\n",
    "            yield np.array(images) / 255.0, np.array(labels)\n",
    "\n",
    "# Custom Dataset class\n",
    "class CustomDataset(Dataset):\n",
    "    def __init__(self, directory, annotations, transform=None):\n",
    "        self.directory = directory\n",
    "        self.annotations = annotations\n",
    "        self.transform = transform\n",
    "        self.files = list(annotations.keys())\n",
    "\n",
    "    def __len__(self):\n",
    "        return len(self.files)\n",
    "\n",
    "    def __getitem__(self, idx):\n",
    "        file = self.files[idx]\n",
    "        image_path = os.path.join(self.directory, file)\n",
    "        image = cv2.imread(image_path)\n",
    "        image = cv2.cvtColor(image, cv2.COLOR_BGR2RGB)\n",
    "        image = cv2.resize(image, (224, 224))\n",
    "        label = self.annotations[file]\n",
    "\n",
    "        if self.transform:\n",
    "            image = self.transform(image)\n",
    "\n",
    "        return {\"pixel_values\": torch.tensor(image).permute(2, 0, 1).float(), \"label\": torch.tensor(label).long()}\n",
    "\n",
    "# Load annotations\n",
    "train_annotations = load_annotations(r'dataset\\train\\_annotations.coco.json')\n",
    "val_annotations = load_annotations(r'dataset\\valid\\_annotations.coco.json')\n",
    "\n",
    "# Create datasets\n",
    "train_dataset = CustomDataset(r'dataset\\train', train_annotations)\n",
    "val_dataset = CustomDataset(r'dataset\\valid', val_annotations)\n",
    "\n",
    "# Load the pre-trained ViT model and feature extractor\n",
    "model_name = \"google/vit-base-patch16-224\"\n",
    "num_classes = 4\n",
    "\n",
    "# Ignore size mismatches for the classifier layer\n",
    "model = ViTForImageClassification.from_pretrained(model_name, num_labels=num_classes, ignore_mismatched_sizes=True)\n",
    "feature_extractor = ViTFeatureExtractor.from_pretrained(model_name)\n",
    "\n",
    "# Define compute metrics function\n",
    "def compute_metrics(p):\n",
    "    preds = np.argmax(p.predictions, axis=1)\n",
    "    labels = p.label_ids\n",
    "    precision, recall, f1, _ = precision_recall_fscore_support(labels, preds, average='weighted')\n",
    "    acc = accuracy_score(labels, preds)\n",
    "    return {\n",
    "        'accuracy': acc,\n",
    "        'precision': precision,\n",
    "        'recall': recall,\n",
    "        'f1': f1,\n",
    "    }\n",
    "\n",
    "# Use mixed precision training\n",
    "training_args = TrainingArguments(\n",
    "    per_device_train_batch_size=16,  # Increase batch size for faster training\n",
    "    evaluation_strategy=\"steps\",\n",
    "    num_train_epochs=10,  # Increase number of epochs\n",
    "    learning_rate=5e-5,  # Adjust learning rate\n",
    "    weight_decay=0.01,\n",
    "    save_steps=500,\n",
    "    save_total_limit=2,\n",
    "    output_dir=\"./vit-finetuned\",\n",
    "    logging_dir=\"./vit-finetuned/logs\",\n",
    "    fp16=True,  # Enable mixed precision training\n",
    "    logging_steps=10,\n",
    "    eval_steps=100,\n",
    ")\n",
    "\n",
    "trainer = Trainer(\n",
    "    model=model,\n",
    "    args=training_args,\n",
    "    train_dataset=train_dataset,\n",
    "    eval_dataset=val_dataset,\n",
    "    compute_metrics=compute_metrics,\n",
    ")\n",
    "\n",
    "# Train the model\n",
    "trainer.train()\n",
    "\n",
    "# Save the fine-tuned model\n",
    "trainer.save_model(\"./vit-finetuned\")\n"
   ]
  },
  {
   "cell_type": "code",
   "execution_count": 2,
   "id": "cd6c745f-a0f5-454e-80e2-455386c17c3e",
   "metadata": {},
   "outputs": [],
   "source": [
    "from sklearn.metrics import confusion_matrix, classification_report, roc_curve, auc\n",
    "import matplotlib.pyplot as plt\n",
    "import numpy as np"
   ]
  },
  {
   "cell_type": "code",
   "execution_count": 1,
   "id": "4d8ed320-3512-4edc-82c9-a620821aefa5",
   "metadata": {},
   "outputs": [
    {
     "name": "stdout",
     "output_type": "stream",
     "text": [
      "Evaluation Results: {'eval_loss': 1.6354875564575195, 'eval_accuracy': 0.8552486187845303, 'eval_precision': 0.852748436391131, 'eval_recall': 0.8552486187845303, 'eval_f1': 0.8513106008106088, 'eval_runtime': 6.9583, 'eval_samples_per_second': 130.061, 'eval_steps_per_second': 16.383, 'epoch': 10.0}\n",
      "\n"
     ]
    }
   ],
   "source": [
    "# Evaluate the model on the validation dataset\n",
    "evaluation_results = trainer.evaluate()\n",
    "print(f\"Evaluation Results: {evaluation_results}\")"
   ]
  },
  {
   "cell_type": "code",
   "execution_count": 4,
   "id": "4457bb46-0c10-4a2a-96cc-f832b0e7e5af",
   "metadata": {},
   "outputs": [
    {
     "data": {
      "application/vnd.jupyter.widget-view+json": {
       "model_id": "d946a444c1cb410cbe8df7447b8a7415",
       "version_major": 2,
       "version_minor": 0
      },
      "text/plain": [
       "  0%|          | 0/114 [00:00<?, ?it/s]"
      ]
     },
     "metadata": {},
     "output_type": "display_data"
    }
   ],
   "source": [
    "# Generate predictions\n",
    "predictions, labels, metrics = trainer.predict(val_dataset)\n",
    "preds = np.argmax(predictions, axis=1)"
   ]
  },
  {
   "cell_type": "code",
   "execution_count": 5,
   "id": "34eadfc8-4866-4f4f-822a-058e4dccbedb",
   "metadata": {},
   "outputs": [
    {
     "name": "stdout",
     "output_type": "stream",
     "text": [
      "Confusion Matrix\n",
      "[[187  13  35  20]\n",
      " [ 18 101  29  50]\n",
      " [ 30  40 110  29]\n",
      " [ 10  16  22 195]]\n"
     ]
    }
   ],
   "source": [
    "# Confusion Matrix\n",
    "conf_matrix = confusion_matrix(labels, preds)\n",
    "print('Confusion Matrix')\n",
    "print(conf_matrix)"
   ]
  },
  {
   "cell_type": "code",
   "execution_count": 2,
   "id": "f659f7db-d4e8-4f6a-84ab-50b1c3c4f556",
   "metadata": {},
   "outputs": [
    {
     "name": "stdout",
     "output_type": "stream",
     "text": [
      "\n",
      "Classification Report\n",
      "              precision    recall  f1-score   support\n",
      "\n",
      "     Class 0       0.76      0.73      0.75       255\n",
      "     Class 1       0.79      0.51      0.55       198\n",
      "     Class 2       0.76      0.53      0.54       209\n",
      "     Class 3       0.76      0.80      0.73       243\n",
      "\n",
      "    accuracy                           0.86       905\n",
      "   macro avg       0.78      0.84      0.84       905\n",
      "weighted avg       0.78      0.86      0.85       905\n",
      "\n",
      "\n",
      "\n"
     ]
    }
   ],
   "source": [
    "# Classification Report\n",
    "class_report = classification_report(labels, preds, target_names=[\"Class 0\", \"Class 1\", \"Class 2\", \"Class 3\"])\n",
    "print('Classification Report')\n",
    "print(class_report)"
   ]
  },
  {
   "cell_type": "code",
   "execution_count": 7,
   "id": "be9953b3-b013-41c8-8b22-ed3df93ca739",
   "metadata": {},
   "outputs": [],
   "source": [
    "# ROC Curve and AUC (for binary classification)\n",
    "if num_classes == 2:\n",
    "    fpr, tpr, _ = roc_curve(labels, predictions[:, 1])\n",
    "    roc_auc = auc(fpr, tpr)\n",
    "    plt.figure()\n",
    "    plt.plot(fpr, tpr, color='darkorange', lw=2, label=f'ROC curve (area = {roc_auc:.2f})')\n",
    "    plt.plot([0, 1], [0, 1], color='navy', lw=2, linestyle='--')\n",
    "    plt.xlim([0.0, 1.0])\n",
    "    plt.ylim([0.0, 1.05])\n",
    "    plt.xlabel('False Positive Rate')\n",
    "    plt.ylabel('True Positive Rate')\n",
    "    plt.title('Receiver Operating Characteristic')\n",
    "    plt.legend(loc='lower right')\n",
    "    plt.show()"
   ]
  },
  {
   "cell_type": "code",
   "execution_count": null,
   "id": "6dbb47d6-49e3-4e1a-9dad-136ae86714cf",
   "metadata": {},
   "outputs": [],
   "source": []
  },
  {
   "cell_type": "code",
   "execution_count": null,
   "id": "7849eb64-ee5d-4a3a-b7c1-42b3881f9e52",
   "metadata": {},
   "outputs": [],
   "source": []
  }
 ],
 "metadata": {
  "kernelspec": {
   "display_name": "Python 3 (ipykernel)",
   "language": "python",
   "name": "python3"
  },
  "language_info": {
   "codemirror_mode": {
    "name": "ipython",
    "version": 3
   },
   "file_extension": ".py",
   "mimetype": "text/x-python",
   "name": "python",
   "nbconvert_exporter": "python",
   "pygments_lexer": "ipython3",
   "version": "3.10.14"
  }
 },
 "nbformat": 4,
 "nbformat_minor": 5
}
